{
 "cells": [
  {
   "cell_type": "code",
   "execution_count": 2,
   "metadata": {},
   "outputs": [],
   "source": [
    "import cv2\n",
    "import numpy as np\n",
    "import matplotlib.pyplot as plt\n",
    "from skimage.util import random_noise"
   ]
  },
  {
   "cell_type": "code",
   "execution_count": null,
   "metadata": {},
   "outputs": [],
   "source": [
    "def add_gaussian_noise(image):\n",
    "    return random_noise(image, mode='gaussian', mean=0, var=0.01)\n",
    "\n",
    "def remove_noise(image):\n",
    "    return cv2.GaussianBlur(image, (5, 5), 0)\n",
    "\n",
    "def adaptive_threshold(image):\n",
    "    return cv2.adaptiveThreshold(image, 255, cv2.ADAPTIVE_THRESH_MEAN_C, cv2.THRESH_BINARY, 11, 2)\n",
    "\n",
    "def process_grid(image, grid_size):\n",
    "    image = cv2.cvtColor(image, cv2.COLOR_BGR2GRAY)\n",
    "    height, width = image.shape\n",
    "    grid_height, grid_width = height // grid_size[0], width // grid_size[1]\n",
    "    for i in range(0, height, grid_height):\n",
    "        for j in range(0, width, grid_width):\n",
    "            grid = image[i:i+grid_height, j:j+grid_width]\n",
    "            grid = add_gaussian_noise(grid)\n",
    "            grid = remove_noise(grid)\n",
    "            grid = adaptive_threshold(grid)\n",
    "            image[i:i+grid_height, j:j+grid_width] = grid\n",
    "    return image"
   ]
  },
  {
   "cell_type": "code",
   "execution_count": null,
   "metadata": {},
   "outputs": [],
   "source": [
    "\n",
    "\n",
    "\n",
    "\n",
    "def plot_histograms(image, grid_size):\n",
    "    height, width = image.shape\n",
    "    grid_height, grid_width = height // grid_size[0], width // grid_size[1]\n",
    "    fig, axs = plt.subplots(grid_size[0], grid_size[1])\n",
    "    for i in range(0, height, grid_height):\n",
    "        for j in range(0, width, grid_width):\n",
    "            grid = image[i:i+grid_height, j:j+grid_width]\n",
    "            axs[i//grid_height, j//grid_width].hist(grid.ravel(), bins=256, color='black')\n",
    "    plt.show()\n",
    "\n",
    "image = cv2.imread('image.jpg', cv2.IMREAD_GRAYSCALE)\n",
    "grid_size = (10, 10)\n",
    "processed_image = process_grid(image, grid_size)\n",
    "plot_histograms(processed_image, grid_size)"
   ]
  }
 ],
 "metadata": {
  "kernelspec": {
   "display_name": "Python 3",
   "language": "python",
   "name": "python3"
  },
  "language_info": {
   "codemirror_mode": {
    "name": "ipython",
    "version": 3
   },
   "file_extension": ".py",
   "mimetype": "text/x-python",
   "name": "python",
   "nbconvert_exporter": "python",
   "pygments_lexer": "ipython3",
   "version": "3.12.1"
  }
 },
 "nbformat": 4,
 "nbformat_minor": 2
}
