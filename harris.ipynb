{
 "cells": [
  {
   "cell_type": "markdown",
   "metadata": {},
   "source": [
    "### M Haroon Shahzad\n",
    "### sp21-bcs-017\n",
    "### Asignment_1"
   ]
  },
  {
   "cell_type": "code",
   "execution_count": 13,
   "metadata": {},
   "outputs": [
    {
     "name": "stdout",
     "output_type": "stream",
     "text": [
      "Pixel at (1, 1) is classified as: Flat\n",
      "Pixel at (2, 3) is classified as: Edge\n"
     ]
    }
   ],
   "source": [
    "import numpy as np\n",
    "\n",
    "def Harris(image, y, x):\n",
    "    \n",
    "    # Check if indices are within bounds\n",
    "    height, width = image.shape\n",
    "    if not (0 <= y < height and 0 <= x < width):\n",
    "        return \"Invalid index\"\n",
    "\n",
    "    # Calculate  gradients\n",
    "    dx = (image[y, min(x+1, width-1)] - image[y, max(x-1, 0)]) / 2\n",
    "    dy = (image[min(y+1, height-1), x] - image[max(y-1, 0), x]) / 2\n",
    "\n",
    "    # Compute  M Matrix\n",
    "    M = np.array([\n",
    "        [dx**2, dx * dy],\n",
    "        [dx * dy, dy**2]\n",
    "    ])\n",
    "\n",
    "    # Calculate Harris response\n",
    "    det_M = np.linalg.det(M)\n",
    "    trace_M = np.trace(M)\n",
    "    R = det_M - 0.04 * (trace_M**2)\n",
    "\n",
    "    # Classify pixel\n",
    "    if R > 400:\n",
    "        return \"Corner\"\n",
    "    elif R < -400:\n",
    "        return \"Edge\"\n",
    "    else:\n",
    "        return \"Flat\"\n",
    "\n",
    "matrix = np.array([\n",
    "    [20, 80, 50, 80, 20],\n",
    "    [10, 10, 10, 40, 20],\n",
    "    [50, 70, 90, 30, 70],\n",
    "    [20, 40, 60, 10, 50],\n",
    "    [10, 20, 30, 10, 40]\n",
    "])\n",
    "\n",
    "\n",
    "y = 1 \n",
    "x = 1  \n",
    "classification = Harris(matrix, y, x)\n",
    "print(f\"Pixel at ({y}, {x}) is classified as: {classification}\")\n",
    "x = 3\n",
    "y = 2 \n",
    "classification = Harris(matrix, y, x)\n",
    "print(f\"Pixel at ({y}, {x}) is classified as: {classification}\") \n",
    "\n"
   ]
  }
 ],
 "metadata": {
  "kernelspec": {
   "display_name": "Python 3",
   "language": "python",
   "name": "python3"
  },
  "language_info": {
   "codemirror_mode": {
    "name": "ipython",
    "version": 3
   },
   "file_extension": ".py",
   "mimetype": "text/x-python",
   "name": "python",
   "nbconvert_exporter": "python",
   "pygments_lexer": "ipython3",
   "version": "3.12.1"
  }
 },
 "nbformat": 4,
 "nbformat_minor": 2
}
